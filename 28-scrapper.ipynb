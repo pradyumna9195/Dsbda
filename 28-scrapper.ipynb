{
 "cells": [
  {
   "cell_type": "code",
   "execution_count": 1,
   "id": "fa4c5aae-729c-4286-9859-7da0d1a5e1d1",
   "metadata": {},
   "outputs": [],
   "source": [
    "\n",
    "import requests\n",
    "from bs4 import BeautifulSoup\n",
    "import pandas as pd\n",
    "     "
   ]
  },
  {
   "cell_type": "code",
   "execution_count": 2,
   "id": "eb983e64-0a59-4ecf-840b-9bb917ae709c",
   "metadata": {},
   "outputs": [],
   "source": [
    "URL = \"https://www.flipkart.com/boat-airdopes-131-bluetooth-headset/p/itmf76c6f983fbca?pid=ACCFSDGXX3S6DVBG&lid=LSTACCFSDGXX3S6DVBGSRHQQR&marketplace=FLIPKART&store=0pm&srno=b_1_3&otracker=hp_rich_navigation_1_2.navigationCard.RICH_NAVIGATION_Electronics~Audio~All_9JGNW7M0TUHD&otracker1=hp_rich_navigation_PINNED_neo%2Fmerchandising_NA_NAV_EXPANDABLE_navigationCard_cc_1_L2_view-all&fm=organic&iid=a5b2130f-59d6-43cf-bee1-9cf0d1c6b920.ACCFSDGXX3S6DVBG.SEARCH&ppt=browse&ppn=browse&ssid=gin531wi000000001649657951918\""
   ]
  },
  {
   "cell_type": "code",
   "execution_count": 3,
   "id": "5a931e0c-2003-4843-be41-ca66231dc7b6",
   "metadata": {},
   "outputs": [],
   "source": [
    "page = requests.get(URL)"
   ]
  },
  {
   "cell_type": "code",
   "execution_count": 4,
   "id": "9f9eecaa-0bf7-499c-96b4-90fb01f467b2",
   "metadata": {},
   "outputs": [],
   "source": [
    "soup = BeautifulSoup(page.content, \"html.parser\")"
   ]
  },
  {
   "cell_type": "code",
   "execution_count": 7,
   "id": "94762498-13e7-445b-85e6-87d03322c47e",
   "metadata": {},
   "outputs": [
    {
     "name": "stdout",
     "output_type": "stream",
     "text": [
      "[<p class=\"_2NsDsF AwS1CA\">Nitish Raj</p>, <p class=\"_2NsDsF AwS1CA\">Nidhi Newrekar</p>, <p class=\"_2NsDsF AwS1CA\">Pratik Trivedi</p>, <p class=\"_2NsDsF AwS1CA\">Anil kumar</p>, <p class=\"_2NsDsF AwS1CA\">Flipkart Customer</p>, <p class=\"_2NsDsF AwS1CA\">P.adnan Khan</p>, <p class=\"_2NsDsF AwS1CA\">PRIYA ROY</p>, <p class=\"_2NsDsF AwS1CA\">Azhar Maulavi</p>, <p class=\"_2NsDsF AwS1CA\">Anshu Singh</p>, <p class=\"_2NsDsF AwS1CA\">NIKAY BESA Konyak</p>]\n"
     ]
    }
   ],
   "source": [
    "customer_names= soup.find_all(\"p\", class_=\"_2NsDsF AwS1CA\")\n",
    "print(customer_names)"
   ]
  },
  {
   "cell_type": "code",
   "execution_count": 11,
   "id": "895dcb24-2f27-46ee-b613-8638edb894ed",
   "metadata": {},
   "outputs": [
    {
     "name": "stdout",
     "output_type": "stream",
     "text": [
      "['Nitish Raj', 'Nidhi Newrekar', 'Pratik Trivedi', 'Anil kumar', 'Flipkart Customer', 'P.adnan Khan', 'PRIYA ROY', 'Azhar Maulavi', 'Anshu Singh', 'NIKAY BESA Konyak']\n"
     ]
    }
   ],
   "source": [
    "customersName = []\n",
    "for i in customer_names:\n",
    "    customersName.append(i.text)\n",
    "print(customersName)\n"
   ]
  },
  {
   "cell_type": "code",
   "execution_count": 12,
   "id": "6c2daa4f-eb7f-4860-b3e2-66f58d9dc299",
   "metadata": {},
   "outputs": [],
   "source": [
    "df = pd.DataFrame()"
   ]
  },
  {
   "cell_type": "code",
   "execution_count": 13,
   "id": "17e9ac7e-fddd-495a-a77a-6f788847d404",
   "metadata": {},
   "outputs": [],
   "source": [
    "df['name']=customersName"
   ]
  },
  {
   "cell_type": "code",
   "execution_count": 14,
   "id": "307bfcb1-0038-4a7f-85d8-f30de4ce990b",
   "metadata": {},
   "outputs": [
    {
     "data": {
      "text/html": [
       "<div>\n",
       "<style scoped>\n",
       "    .dataframe tbody tr th:only-of-type {\n",
       "        vertical-align: middle;\n",
       "    }\n",
       "\n",
       "    .dataframe tbody tr th {\n",
       "        vertical-align: top;\n",
       "    }\n",
       "\n",
       "    .dataframe thead th {\n",
       "        text-align: right;\n",
       "    }\n",
       "</style>\n",
       "<table border=\"1\" class=\"dataframe\">\n",
       "  <thead>\n",
       "    <tr style=\"text-align: right;\">\n",
       "      <th></th>\n",
       "      <th>name</th>\n",
       "    </tr>\n",
       "  </thead>\n",
       "  <tbody>\n",
       "    <tr>\n",
       "      <th>0</th>\n",
       "      <td>Nitish Raj</td>\n",
       "    </tr>\n",
       "    <tr>\n",
       "      <th>1</th>\n",
       "      <td>Nidhi Newrekar</td>\n",
       "    </tr>\n",
       "    <tr>\n",
       "      <th>2</th>\n",
       "      <td>Pratik Trivedi</td>\n",
       "    </tr>\n",
       "    <tr>\n",
       "      <th>3</th>\n",
       "      <td>Anil kumar</td>\n",
       "    </tr>\n",
       "    <tr>\n",
       "      <th>4</th>\n",
       "      <td>Flipkart Customer</td>\n",
       "    </tr>\n",
       "    <tr>\n",
       "      <th>5</th>\n",
       "      <td>P.adnan Khan</td>\n",
       "    </tr>\n",
       "    <tr>\n",
       "      <th>6</th>\n",
       "      <td>PRIYA ROY</td>\n",
       "    </tr>\n",
       "    <tr>\n",
       "      <th>7</th>\n",
       "      <td>Azhar Maulavi</td>\n",
       "    </tr>\n",
       "    <tr>\n",
       "      <th>8</th>\n",
       "      <td>Anshu Singh</td>\n",
       "    </tr>\n",
       "    <tr>\n",
       "      <th>9</th>\n",
       "      <td>NIKAY BESA Konyak</td>\n",
       "    </tr>\n",
       "  </tbody>\n",
       "</table>\n",
       "</div>"
      ],
      "text/plain": [
       "                name\n",
       "0         Nitish Raj\n",
       "1     Nidhi Newrekar\n",
       "2     Pratik Trivedi\n",
       "3         Anil kumar\n",
       "4  Flipkart Customer\n",
       "5       P.adnan Khan\n",
       "6          PRIYA ROY\n",
       "7      Azhar Maulavi\n",
       "8        Anshu Singh\n",
       "9  NIKAY BESA Konyak"
      ]
     },
     "execution_count": 14,
     "metadata": {},
     "output_type": "execute_result"
    }
   ],
   "source": [
    "df"
   ]
  },
  {
   "cell_type": "code",
   "execution_count": 16,
   "id": "2855594a-eb45-47ba-a285-f52481c3d818",
   "metadata": {},
   "outputs": [
    {
     "name": "stdout",
     "output_type": "stream",
     "text": [
      "[<p class=\"z9E0IG\">Pretty good</p>, <p class=\"z9E0IG\">Worth the money</p>, <p class=\"z9E0IG\">Nice product</p>, <p class=\"z9E0IG\">Good choice</p>, <p class=\"z9E0IG\">Wonderful</p>, <p class=\"z9E0IG\">Must buy!</p>, <p class=\"z9E0IG\">Pretty good</p>, <p class=\"z9E0IG\">Mind-blowing purchase</p>, <p class=\"z9E0IG\">Good quality product</p>, <p class=\"z9E0IG\">Does the job</p>]\n"
     ]
    }
   ],
   "source": [
    "review_Title = soup.find_all(\"p\", class_=\"z9E0IG\")\n",
    "print(review_Title)"
   ]
  },
  {
   "cell_type": "code",
   "execution_count": 17,
   "id": "227e1b40-405e-49e8-aa50-73393014e5aa",
   "metadata": {},
   "outputs": [
    {
     "name": "stdout",
     "output_type": "stream",
     "text": [
      "['Pretty good', 'Worth the money', 'Nice product', 'Good choice', 'Wonderful', 'Must buy!', 'Pretty good', 'Mind-blowing purchase', 'Good quality product', 'Does the job']\n"
     ]
    }
   ],
   "source": [
    "reviews_Title = []\n",
    "for element in review_Title:\n",
    "    reviews_Title.append(element.text)\n",
    "print(reviews_Title)"
   ]
  },
  {
   "cell_type": "code",
   "execution_count": 18,
   "id": "3dc30c4d-5194-4bb2-8417-c9379f4359b4",
   "metadata": {},
   "outputs": [],
   "source": [
    "df['Review_title'] = review_Title"
   ]
  },
  {
   "cell_type": "code",
   "execution_count": 19,
   "id": "b6bd4229-29f9-42e9-80ef-a34cb341afb5",
   "metadata": {},
   "outputs": [
    {
     "name": "stdout",
     "output_type": "stream",
     "text": [
      "[<div class=\"ZmyHeo\"><div><div class=\"\">Fabulous in this range.. <br/><br/>1. Sound quality is very good<br/>2. Premium built quality and look.. from inside it may feel like plastic<br/>3. Battery backup is good..<br/>4. If you love bass the don't go for it..<br/>5. It doesn't block your ear.. you can hear surrounding voice while using it</div><span class=\"wTYmpv\"><span>READ MORE</span></span></div></div>, <div class=\"ZmyHeo\"><div><div class=\"\">Good</div><span class=\"wTYmpv\"><span>READ MORE</span></span></div></div>, <div class=\"ZmyHeo\"><div><div class=\"\">Very good option at this price<br/>Pros: Build quality, clear sound, Lightweight, branded product at low price, perfect fitting, insta wake up technology Good bass and sound(by using other music players mentioned below) <br/>Cons: Low bass which can control by other music players like Google play music, Dub music player or third party equaliser app. You will get perfect sound by playing music on this players.</div><span class=\"wTYmpv\"><span>READ MORE</span></span></div></div>, <div class=\"ZmyHeo\"><div><div class=\"\">Boat has decent quality. The product is good value for money. 👍🏻</div><span class=\"wTYmpv\"><span>READ MORE</span></span></div></div>, <div class=\"ZmyHeo\"><div><div class=\"\">Sound quality was not good but  design and bass was good also battery backup was good I like it 💞💞</div><span class=\"wTYmpv\"><span>READ MORE</span></span></div></div>, <div class=\"ZmyHeo\"><div><div class=\"\">Bass was excellent<br/>Battery backup super <br/>Model is togood</div><span class=\"wTYmpv\"><span>READ MORE</span></span></div></div>, <div class=\"ZmyHeo\"><div><div class=\"\">Awesome 👍👍👍👍</div><span class=\"wTYmpv\"><span>READ MORE</span></span></div></div>, <div class=\"ZmyHeo\"><div><div class=\"\">I hope you guys find this review helpful, well it's too soon for a review but I think it's worth every penny, <br/><br/>Sound - Do not have high expectations for bass atleast, rest of the sound is amazing, you get a clear voice even if it turns a bit windy on roads, songs when played have a clear voice, good for casual song listening, you can watch movies and browse, sound is good even when you play games on phone.<br/><br/>Battery backup - is amazing, I've been using it the whole day, as soon as you put the...</div><span class=\"b4x-fr\"><span>READ MORE</span></span></div></div>, <div class=\"ZmyHeo\"><div><div class=\"\">Awesome 👍🏻😍</div><span class=\"wTYmpv\"><span>READ MORE</span></span></div></div>, <div class=\"ZmyHeo\"><div><div class=\"\">Review after 5 months: <br/> Not good for calling. It doesn't receive voice properly and the listener doesn't hear well. It pains my ear as the buds are too big...<br/>Sound wise, it's good for listening music. Battery quality is good. Very easy and convenient to use.</div><span class=\"wTYmpv\"><span>READ MORE</span></span></div></div>]\n"
     ]
    }
   ],
   "source": [
    "review = soup.find_all(\"div\", class_=\"ZmyHeo\")\n",
    "print(review)"
   ]
  },
  {
   "cell_type": "code",
   "execution_count": 20,
   "id": "69930325-a346-44a0-91e2-82038e62d655",
   "metadata": {},
   "outputs": [
    {
     "name": "stdout",
     "output_type": "stream",
     "text": [
      "[\"Fabulous in this range.. 1. Sound quality is very good2. Premium built quality and look.. from inside it may feel like plastic3. Battery backup is good..4. If you love bass the don't go for it..5. It doesn't block your ear.. you can hear surrounding voice while using itREAD MORE\", 'GoodREAD MORE', 'Very good option at this pricePros: Build quality, clear sound, Lightweight, branded product at low price, perfect fitting, insta wake up technology Good bass and sound(by using other music players mentioned below) Cons: Low bass which can control by other music players like Google play music, Dub music player or third party equaliser app. You will get perfect sound by playing music on this players.READ MORE', 'Boat has decent quality. The product is good value for money. 👍🏻READ MORE', 'Sound quality was not good but  design and bass was good also battery backup was good I like it 💞💞READ MORE', 'Bass was excellentBattery backup super Model is togoodREAD MORE', 'Awesome 👍👍👍👍READ MORE', \"I hope you guys find this review helpful, well it's too soon for a review but I think it's worth every penny, Sound - Do not have high expectations for bass atleast, rest of the sound is amazing, you get a clear voice even if it turns a bit windy on roads, songs when played have a clear voice, good for casual song listening, you can watch movies and browse, sound is good even when you play games on phone.Battery backup - is amazing, I've been using it the whole day, as soon as you put the...READ MORE\", 'Awesome 👍🏻😍READ MORE', \"Review after 5 months:  Not good for calling. It doesn't receive voice properly and the listener doesn't hear well. It pains my ear as the buds are too big...Sound wise, it's good for listening music. Battery quality is good. Very easy and convenient to use.READ MORE\"]\n"
     ]
    }
   ],
   "source": [
    "customer_Review = []\n",
    "for element in review :\n",
    "    div1 = element.find(\"div\")\n",
    "    div2 = element.find(\"div\",class_=\"\")\n",
    "    customer_Review.append(div2.text)\n",
    "print(customer_Review)"
   ]
  },
  {
   "cell_type": "code",
   "execution_count": 21,
   "id": "2798d4db-0484-466d-8f84-5ff883398ba1",
   "metadata": {},
   "outputs": [],
   "source": [
    "df['Review'] = customer_Review"
   ]
  },
  {
   "cell_type": "code",
   "execution_count": 22,
   "id": "9b186dfd-99f6-4ecc-9780-3ad2e55c99c8",
   "metadata": {},
   "outputs": [
    {
     "data": {
      "text/html": [
       "<div>\n",
       "<style scoped>\n",
       "    .dataframe tbody tr th:only-of-type {\n",
       "        vertical-align: middle;\n",
       "    }\n",
       "\n",
       "    .dataframe tbody tr th {\n",
       "        vertical-align: top;\n",
       "    }\n",
       "\n",
       "    .dataframe thead th {\n",
       "        text-align: right;\n",
       "    }\n",
       "</style>\n",
       "<table border=\"1\" class=\"dataframe\">\n",
       "  <thead>\n",
       "    <tr style=\"text-align: right;\">\n",
       "      <th></th>\n",
       "      <th>name</th>\n",
       "      <th>Review_title</th>\n",
       "      <th>Review</th>\n",
       "    </tr>\n",
       "  </thead>\n",
       "  <tbody>\n",
       "    <tr>\n",
       "      <th>0</th>\n",
       "      <td>Nitish Raj</td>\n",
       "      <td>[Pretty good]</td>\n",
       "      <td>Fabulous in this range.. 1. Sound quality is v...</td>\n",
       "    </tr>\n",
       "    <tr>\n",
       "      <th>1</th>\n",
       "      <td>Nidhi Newrekar</td>\n",
       "      <td>[Worth the money]</td>\n",
       "      <td>GoodREAD MORE</td>\n",
       "    </tr>\n",
       "    <tr>\n",
       "      <th>2</th>\n",
       "      <td>Pratik Trivedi</td>\n",
       "      <td>[Nice product]</td>\n",
       "      <td>Very good option at this pricePros: Build qual...</td>\n",
       "    </tr>\n",
       "    <tr>\n",
       "      <th>3</th>\n",
       "      <td>Anil kumar</td>\n",
       "      <td>[Good choice]</td>\n",
       "      <td>Boat has decent quality. The product is good v...</td>\n",
       "    </tr>\n",
       "    <tr>\n",
       "      <th>4</th>\n",
       "      <td>Flipkart Customer</td>\n",
       "      <td>[Wonderful]</td>\n",
       "      <td>Sound quality was not good but  design and bas...</td>\n",
       "    </tr>\n",
       "    <tr>\n",
       "      <th>5</th>\n",
       "      <td>P.adnan Khan</td>\n",
       "      <td>[Must buy!]</td>\n",
       "      <td>Bass was excellentBattery backup super Model i...</td>\n",
       "    </tr>\n",
       "    <tr>\n",
       "      <th>6</th>\n",
       "      <td>PRIYA ROY</td>\n",
       "      <td>[Pretty good]</td>\n",
       "      <td>Awesome 👍👍👍👍READ MORE</td>\n",
       "    </tr>\n",
       "    <tr>\n",
       "      <th>7</th>\n",
       "      <td>Azhar Maulavi</td>\n",
       "      <td>[Mind-blowing purchase]</td>\n",
       "      <td>I hope you guys find this review helpful, well...</td>\n",
       "    </tr>\n",
       "    <tr>\n",
       "      <th>8</th>\n",
       "      <td>Anshu Singh</td>\n",
       "      <td>[Good quality product]</td>\n",
       "      <td>Awesome 👍🏻😍READ MORE</td>\n",
       "    </tr>\n",
       "    <tr>\n",
       "      <th>9</th>\n",
       "      <td>NIKAY BESA Konyak</td>\n",
       "      <td>[Does the job]</td>\n",
       "      <td>Review after 5 months:  Not good for calling. ...</td>\n",
       "    </tr>\n",
       "  </tbody>\n",
       "</table>\n",
       "</div>"
      ],
      "text/plain": [
       "                name             Review_title  \\\n",
       "0         Nitish Raj            [Pretty good]   \n",
       "1     Nidhi Newrekar        [Worth the money]   \n",
       "2     Pratik Trivedi           [Nice product]   \n",
       "3         Anil kumar            [Good choice]   \n",
       "4  Flipkart Customer              [Wonderful]   \n",
       "5       P.adnan Khan              [Must buy!]   \n",
       "6          PRIYA ROY            [Pretty good]   \n",
       "7      Azhar Maulavi  [Mind-blowing purchase]   \n",
       "8        Anshu Singh   [Good quality product]   \n",
       "9  NIKAY BESA Konyak           [Does the job]   \n",
       "\n",
       "                                              Review  \n",
       "0  Fabulous in this range.. 1. Sound quality is v...  \n",
       "1                                      GoodREAD MORE  \n",
       "2  Very good option at this pricePros: Build qual...  \n",
       "3  Boat has decent quality. The product is good v...  \n",
       "4  Sound quality was not good but  design and bas...  \n",
       "5  Bass was excellentBattery backup super Model i...  \n",
       "6                              Awesome 👍👍👍👍READ MORE  \n",
       "7  I hope you guys find this review helpful, well...  \n",
       "8                               Awesome 👍🏻😍READ MORE  \n",
       "9  Review after 5 months:  Not good for calling. ...  "
      ]
     },
     "execution_count": 22,
     "metadata": {},
     "output_type": "execute_result"
    }
   ],
   "source": [
    "df"
   ]
  },
  {
   "cell_type": "code",
   "execution_count": 23,
   "id": "72ffb1a5-7079-46b4-a7c1-f59c90589e76",
   "metadata": {},
   "outputs": [
    {
     "name": "stdout",
     "output_type": "stream",
     "text": [
      "['4', '4', '4', '4', '4', '5', '4', '5', '4', '3']\n"
     ]
    }
   ],
   "source": [
    "rating = soup.find_all(\"div\", class_=\"XQDdHH Ga3i8K\")\n",
    "ratings = []\n",
    "for element in rating:\n",
    "    ratings.append(element.text)\n",
    "print(ratings)"
   ]
  },
  {
   "cell_type": "code",
   "execution_count": 24,
   "id": "ae3554d7-5001-4937-86f9-33bdd4356064",
   "metadata": {},
   "outputs": [
    {
     "data": {
      "text/html": [
       "<div>\n",
       "<style scoped>\n",
       "    .dataframe tbody tr th:only-of-type {\n",
       "        vertical-align: middle;\n",
       "    }\n",
       "\n",
       "    .dataframe tbody tr th {\n",
       "        vertical-align: top;\n",
       "    }\n",
       "\n",
       "    .dataframe thead th {\n",
       "        text-align: right;\n",
       "    }\n",
       "</style>\n",
       "<table border=\"1\" class=\"dataframe\">\n",
       "  <thead>\n",
       "    <tr style=\"text-align: right;\">\n",
       "      <th></th>\n",
       "      <th>name</th>\n",
       "      <th>Review_title</th>\n",
       "      <th>Review</th>\n",
       "      <th>Rating</th>\n",
       "    </tr>\n",
       "  </thead>\n",
       "  <tbody>\n",
       "    <tr>\n",
       "      <th>0</th>\n",
       "      <td>Nitish Raj</td>\n",
       "      <td>[Pretty good]</td>\n",
       "      <td>Fabulous in this range.. 1. Sound quality is v...</td>\n",
       "      <td>4</td>\n",
       "    </tr>\n",
       "    <tr>\n",
       "      <th>1</th>\n",
       "      <td>Nidhi Newrekar</td>\n",
       "      <td>[Worth the money]</td>\n",
       "      <td>GoodREAD MORE</td>\n",
       "      <td>4</td>\n",
       "    </tr>\n",
       "    <tr>\n",
       "      <th>2</th>\n",
       "      <td>Pratik Trivedi</td>\n",
       "      <td>[Nice product]</td>\n",
       "      <td>Very good option at this pricePros: Build qual...</td>\n",
       "      <td>4</td>\n",
       "    </tr>\n",
       "    <tr>\n",
       "      <th>3</th>\n",
       "      <td>Anil kumar</td>\n",
       "      <td>[Good choice]</td>\n",
       "      <td>Boat has decent quality. The product is good v...</td>\n",
       "      <td>4</td>\n",
       "    </tr>\n",
       "    <tr>\n",
       "      <th>4</th>\n",
       "      <td>Flipkart Customer</td>\n",
       "      <td>[Wonderful]</td>\n",
       "      <td>Sound quality was not good but  design and bas...</td>\n",
       "      <td>4</td>\n",
       "    </tr>\n",
       "    <tr>\n",
       "      <th>5</th>\n",
       "      <td>P.adnan Khan</td>\n",
       "      <td>[Must buy!]</td>\n",
       "      <td>Bass was excellentBattery backup super Model i...</td>\n",
       "      <td>5</td>\n",
       "    </tr>\n",
       "    <tr>\n",
       "      <th>6</th>\n",
       "      <td>PRIYA ROY</td>\n",
       "      <td>[Pretty good]</td>\n",
       "      <td>Awesome 👍👍👍👍READ MORE</td>\n",
       "      <td>4</td>\n",
       "    </tr>\n",
       "    <tr>\n",
       "      <th>7</th>\n",
       "      <td>Azhar Maulavi</td>\n",
       "      <td>[Mind-blowing purchase]</td>\n",
       "      <td>I hope you guys find this review helpful, well...</td>\n",
       "      <td>5</td>\n",
       "    </tr>\n",
       "    <tr>\n",
       "      <th>8</th>\n",
       "      <td>Anshu Singh</td>\n",
       "      <td>[Good quality product]</td>\n",
       "      <td>Awesome 👍🏻😍READ MORE</td>\n",
       "      <td>4</td>\n",
       "    </tr>\n",
       "    <tr>\n",
       "      <th>9</th>\n",
       "      <td>NIKAY BESA Konyak</td>\n",
       "      <td>[Does the job]</td>\n",
       "      <td>Review after 5 months:  Not good for calling. ...</td>\n",
       "      <td>3</td>\n",
       "    </tr>\n",
       "  </tbody>\n",
       "</table>\n",
       "</div>"
      ],
      "text/plain": [
       "                name             Review_title  \\\n",
       "0         Nitish Raj            [Pretty good]   \n",
       "1     Nidhi Newrekar        [Worth the money]   \n",
       "2     Pratik Trivedi           [Nice product]   \n",
       "3         Anil kumar            [Good choice]   \n",
       "4  Flipkart Customer              [Wonderful]   \n",
       "5       P.adnan Khan              [Must buy!]   \n",
       "6          PRIYA ROY            [Pretty good]   \n",
       "7      Azhar Maulavi  [Mind-blowing purchase]   \n",
       "8        Anshu Singh   [Good quality product]   \n",
       "9  NIKAY BESA Konyak           [Does the job]   \n",
       "\n",
       "                                              Review Rating  \n",
       "0  Fabulous in this range.. 1. Sound quality is v...      4  \n",
       "1                                      GoodREAD MORE      4  \n",
       "2  Very good option at this pricePros: Build qual...      4  \n",
       "3  Boat has decent quality. The product is good v...      4  \n",
       "4  Sound quality was not good but  design and bas...      4  \n",
       "5  Bass was excellentBattery backup super Model i...      5  \n",
       "6                              Awesome 👍👍👍👍READ MORE      4  \n",
       "7  I hope you guys find this review helpful, well...      5  \n",
       "8                               Awesome 👍🏻😍READ MORE      4  \n",
       "9  Review after 5 months:  Not good for calling. ...      3  "
      ]
     },
     "execution_count": 24,
     "metadata": {},
     "output_type": "execute_result"
    }
   ],
   "source": [
    "df['Rating']=ratings\n",
    "df"
   ]
  },
  {
   "cell_type": "code",
   "execution_count": null,
   "id": "9258e5d1-5b49-422a-bf8e-b1b9263ee770",
   "metadata": {},
   "outputs": [],
   "source": []
  }
 ],
 "metadata": {
  "kernelspec": {
   "display_name": "Python 3 (ipykernel)",
   "language": "python",
   "name": "python3"
  },
  "language_info": {
   "codemirror_mode": {
    "name": "ipython",
    "version": 3
   },
   "file_extension": ".py",
   "mimetype": "text/x-python",
   "name": "python",
   "nbconvert_exporter": "python",
   "pygments_lexer": "ipython3",
   "version": "3.10.0"
  }
 },
 "nbformat": 4,
 "nbformat_minor": 5
}
